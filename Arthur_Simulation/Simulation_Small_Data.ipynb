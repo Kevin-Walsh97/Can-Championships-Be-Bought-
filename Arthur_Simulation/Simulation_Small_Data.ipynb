{
 "cells": [
  {
   "cell_type": "code",
   "execution_count": 2,
   "metadata": {},
   "outputs": [],
   "source": [
    "# Imports\n",
    "import pandas as pd \n",
    "import random as rnd\n",
    "from pathlib import Path\n",
    "%matplotlib inline"
   ]
  },
  {
   "cell_type": "code",
   "execution_count": 6,
   "metadata": {},
   "outputs": [
    {
     "data": {
      "text/html": [
       "<div>\n",
       "<style scoped>\n",
       "    .dataframe tbody tr th:only-of-type {\n",
       "        vertical-align: middle;\n",
       "    }\n",
       "\n",
       "    .dataframe tbody tr th {\n",
       "        vertical-align: top;\n",
       "    }\n",
       "\n",
       "    .dataframe thead th {\n",
       "        text-align: right;\n",
       "    }\n",
       "</style>\n",
       "<table border=\"1\" class=\"dataframe\">\n",
       "  <thead>\n",
       "    <tr style=\"text-align: right;\">\n",
       "      <th></th>\n",
       "      <th>Season_Start</th>\n",
       "      <th>Season End</th>\n",
       "      <th>Team</th>\n",
       "      <th>Team_ID</th>\n",
       "      <th>TEAM_PTS</th>\n",
       "      <th>OPP_PTS</th>\n",
       "      <th>Salary</th>\n",
       "      <th>Salary w/ Inflation</th>\n",
       "    </tr>\n",
       "  </thead>\n",
       "  <tbody>\n",
       "    <tr>\n",
       "      <th>0</th>\n",
       "      <td>2008</td>\n",
       "      <td>2009</td>\n",
       "      <td>Atlanta Hawks</td>\n",
       "      <td>ATL</td>\n",
       "      <td>98.1</td>\n",
       "      <td>96.5</td>\n",
       "      <td>68168841</td>\n",
       "      <td>79797863</td>\n",
       "    </tr>\n",
       "    <tr>\n",
       "      <th>1</th>\n",
       "      <td>2009</td>\n",
       "      <td>2010</td>\n",
       "      <td>Atlanta Hawks</td>\n",
       "      <td>ATL</td>\n",
       "      <td>101.7</td>\n",
       "      <td>97.0</td>\n",
       "      <td>65883642</td>\n",
       "      <td>78239128</td>\n",
       "    </tr>\n",
       "    <tr>\n",
       "      <th>2</th>\n",
       "      <td>2010</td>\n",
       "      <td>2011</td>\n",
       "      <td>Atlanta Hawks</td>\n",
       "      <td>ATL</td>\n",
       "      <td>95.0</td>\n",
       "      <td>95.8</td>\n",
       "      <td>71469843</td>\n",
       "      <td>83988250</td>\n",
       "    </tr>\n",
       "    <tr>\n",
       "      <th>3</th>\n",
       "      <td>2011</td>\n",
       "      <td>2012</td>\n",
       "      <td>Atlanta Hawks</td>\n",
       "      <td>ATL</td>\n",
       "      <td>96.6</td>\n",
       "      <td>93.2</td>\n",
       "      <td>73669912</td>\n",
       "      <td>83598545</td>\n",
       "    </tr>\n",
       "    <tr>\n",
       "      <th>4</th>\n",
       "      <td>2012</td>\n",
       "      <td>2013</td>\n",
       "      <td>Atlanta Hawks</td>\n",
       "      <td>ATL</td>\n",
       "      <td>98.0</td>\n",
       "      <td>97.5</td>\n",
       "      <td>66710178</td>\n",
       "      <td>74461791</td>\n",
       "    </tr>\n",
       "  </tbody>\n",
       "</table>\n",
       "</div>"
      ],
      "text/plain": [
       "   Season_Start  Season End           Team Team_ID  TEAM_PTS  OPP_PTS  \\\n",
       "0          2008        2009  Atlanta Hawks     ATL      98.1     96.5   \n",
       "1          2009        2010  Atlanta Hawks     ATL     101.7     97.0   \n",
       "2          2010        2011  Atlanta Hawks     ATL      95.0     95.8   \n",
       "3          2011        2012  Atlanta Hawks     ATL      96.6     93.2   \n",
       "4          2012        2013  Atlanta Hawks     ATL      98.0     97.5   \n",
       "\n",
       "     Salary  Salary w/ Inflation  \n",
       "0  68168841             79797863  \n",
       "1  65883642             78239128  \n",
       "2  71469843             83988250  \n",
       "3  73669912             83598545  \n",
       "4  66710178             74461791  "
      ]
     },
     "execution_count": 6,
     "metadata": {},
     "output_type": "execute_result"
    }
   ],
   "source": [
    "# Bring in NBA game stats csv contains NBA team data from 2014 to 2018\n",
    "nba_stats_csv = Path('../1. Data_Cleaning/Cleansed_csv/points_salary.csv')\n",
    "\n",
    "# Read csv into a pandas Dataframe\n",
    "season_stats = pd.read_csv(nba_stats_csv)\n",
    "season_stats.head()\n"
   ]
  },
  {
   "cell_type": "code",
   "execution_count": 7,
   "metadata": {},
   "outputs": [
    {
     "name": "stdout",
     "output_type": "stream",
     "text": [
      "0      ATL\n",
      "10     BOS\n",
      "20     BKN\n",
      "26     CHA\n",
      "36     CHI\n",
      "46     CLE\n",
      "56     DAL\n",
      "66     DEN\n",
      "76     DET\n",
      "86     GSW\n",
      "96     HOU\n",
      "106    IND\n",
      "116    LAC\n",
      "126    LAL\n",
      "136    MEM\n",
      "146    MIA\n",
      "156    MIL\n",
      "166    MIN\n",
      "180    NOP\n",
      "190    NYK\n",
      "200    OKC\n",
      "210    ORL\n",
      "220    PHI\n",
      "230    PHX\n",
      "240    POR\n",
      "250    SAC\n",
      "260    SAN\n",
      "270    TOR\n",
      "280    UTA\n",
      "290    WAS\n",
      "Name: Team_ID, dtype: object\n"
     ]
    }
   ],
   "source": [
    "# Generate list of teams\n",
    "teams_filtered = season_stats.Team_ID\n",
    "teams_filtered = teams_filtered.drop_duplicates()\n",
    "print(teams_filtered)"
   ]
  },
  {
   "cell_type": "code",
   "execution_count": 10,
   "metadata": {},
   "outputs": [
    {
     "data": {
      "text/html": [
       "<div>\n",
       "<style scoped>\n",
       "    .dataframe tbody tr th:only-of-type {\n",
       "        vertical-align: middle;\n",
       "    }\n",
       "\n",
       "    .dataframe tbody tr th {\n",
       "        vertical-align: top;\n",
       "    }\n",
       "\n",
       "    .dataframe thead th {\n",
       "        text-align: right;\n",
       "    }\n",
       "</style>\n",
       "<table border=\"1\" class=\"dataframe\">\n",
       "  <thead>\n",
       "    <tr style=\"text-align: right;\">\n",
       "      <th></th>\n",
       "      <th>Season_Start</th>\n",
       "      <th>Season End</th>\n",
       "      <th>Team</th>\n",
       "      <th>Team_ID</th>\n",
       "      <th>TEAM_PTS</th>\n",
       "      <th>OPP_PTS</th>\n",
       "      <th>Salary</th>\n",
       "      <th>Salary w/ Inflation</th>\n",
       "    </tr>\n",
       "  </thead>\n",
       "  <tbody>\n",
       "    <tr>\n",
       "      <th>58</th>\n",
       "      <td>2010</td>\n",
       "      <td>2011</td>\n",
       "      <td>Dallas Mavericks</td>\n",
       "      <td>DAL</td>\n",
       "      <td>100.2</td>\n",
       "      <td>96.0</td>\n",
       "      <td>128522489</td>\n",
       "      <td>136587864</td>\n",
       "    </tr>\n",
       "    <tr>\n",
       "      <th>159</th>\n",
       "      <td>2011</td>\n",
       "      <td>2012</td>\n",
       "      <td>Milwaukee Bucks</td>\n",
       "      <td>MIL</td>\n",
       "      <td>99.0</td>\n",
       "      <td>98.7</td>\n",
       "      <td>133624374</td>\n",
       "      <td>139727484</td>\n",
       "    </tr>\n",
       "    <tr>\n",
       "      <th>209</th>\n",
       "      <td>2017</td>\n",
       "      <td>2018</td>\n",
       "      <td>Oklahoma City Thunder</td>\n",
       "      <td>OKC</td>\n",
       "      <td>107.9</td>\n",
       "      <td>104.4</td>\n",
       "      <td>134534640</td>\n",
       "      <td>140679326</td>\n",
       "    </tr>\n",
       "    <tr>\n",
       "      <th>99</th>\n",
       "      <td>2011</td>\n",
       "      <td>2012</td>\n",
       "      <td>Houston Rockets</td>\n",
       "      <td>HOU</td>\n",
       "      <td>98.1</td>\n",
       "      <td>97.9</td>\n",
       "      <td>137610134</td>\n",
       "      <td>143895289</td>\n",
       "    </tr>\n",
       "    <tr>\n",
       "      <th>59</th>\n",
       "      <td>2011</td>\n",
       "      <td>2012</td>\n",
       "      <td>Dallas Mavericks</td>\n",
       "      <td>DAL</td>\n",
       "      <td>95.8</td>\n",
       "      <td>94.8</td>\n",
       "      <td>137722926</td>\n",
       "      <td>144013233</td>\n",
       "    </tr>\n",
       "  </tbody>\n",
       "</table>\n",
       "</div>"
      ],
      "text/plain": [
       "     Season_Start  Season End                   Team Team_ID  TEAM_PTS  \\\n",
       "58           2010        2011       Dallas Mavericks     DAL     100.2   \n",
       "159          2011        2012        Milwaukee Bucks     MIL      99.0   \n",
       "209          2017        2018  Oklahoma City Thunder     OKC     107.9   \n",
       "99           2011        2012        Houston Rockets     HOU      98.1   \n",
       "59           2011        2012       Dallas Mavericks     DAL      95.8   \n",
       "\n",
       "     OPP_PTS     Salary  Salary w/ Inflation  \n",
       "58      96.0  128522489            136587864  \n",
       "159     98.7  133624374            139727484  \n",
       "209    104.4  134534640            140679326  \n",
       "99      97.9  137610134            143895289  \n",
       "59      94.8  137722926            144013233  "
      ]
     },
     "execution_count": 10,
     "metadata": {},
     "output_type": "execute_result"
    }
   ],
   "source": [
    "#sort by highest salary\n",
    "salary_stats = season_stats.sort_values(by='Salary w/ Inflation')\n",
    "salary_stats.tail()"
   ]
  },
  {
   "cell_type": "markdown",
   "metadata": {},
   "source": [
    "# User Selected Any Two Teams for S"
   ]
  },
  {
   "cell_type": "code",
   "execution_count": 39,
   "metadata": {},
   "outputs": [],
   "source": [
    "# Set Variables, users select 2 teams from list above\n",
    "\n",
    "team_1 = 'SAS'\n",
    "team_2 = 'NYK'"
   ]
  },
  {
   "cell_type": "code",
   "execution_count": 40,
   "metadata": {},
   "outputs": [],
   "source": [
    "# Create dataframes for two teams selected\n",
    "\n",
    "# Team 1 dataframe\n",
    "t1_df = game_stats[game_stats.Team_ID == team_1]\n",
    "#t1_df.head()\n",
    "\n",
    "# Team 2 dataframe\n",
    "t2_df = game_stats[game_stats.Team_ID == team_2]\n",
    "#t2_df.head()\n"
   ]
  },
  {
   "cell_type": "code",
   "execution_count": 41,
   "metadata": {},
   "outputs": [
    {
     "data": {
      "text/plain": [
       "<matplotlib.axes._subplots.AxesSubplot at 0x1c895c4fd08>"
      ]
     },
     "execution_count": 41,
     "metadata": {},
     "output_type": "execute_result"
    },
    {
     "data": {
      "image/png": "[encoded data removed]",
      "text/plain": [
       "<Figure size 432x288 with 1 Axes>"
      ]
     },
     "metadata": {
      "needs_background": "light"
     },
     "output_type": "display_data"
    }
   ],
   "source": [
    "# Create histogram to look at points scored by Team 1\n",
    "t1_df.TEAM_PTS.hist()"
   ]
  },
  {
   "cell_type": "code",
   "execution_count": 42,
   "metadata": {},
   "outputs": [
    {
     "data": {
      "text/plain": [
       "<matplotlib.axes._subplots.AxesSubplot at 0x1c895cc0e88>"
      ]
     },
     "execution_count": 42,
     "metadata": {},
     "output_type": "execute_result"
    },
    {
     "data": {
      "image/png": "[encoded data removed]",
      "text/plain": [
       "<Figure size 432x288 with 1 Axes>"
      ]
     },
     "metadata": {
      "needs_background": "light"
     },
     "output_type": "display_data"
    }
   ],
   "source": [
    "# Create histogram to look at points scored by Team 2\n",
    "t2_df.TEAM_PTS.hist()"
   ]
  },
  {
   "cell_type": "code",
   "execution_count": 43,
   "metadata": {},
   "outputs": [
    {
     "data": {
      "text/plain": [
       "<matplotlib.axes._subplots.AxesSubplot at 0x1c895b0e7c8>"
      ]
     },
     "execution_count": 43,
     "metadata": {},
     "output_type": "execute_result"
    },
    {
     "data": {
      "image/png": "[encoded data removed]",
      "text/plain": [
       "<Figure size 432x288 with 1 Axes>"
      ]
     },
     "metadata": {
      "needs_background": "light"
     },
     "output_type": "display_data"
    }
   ],
   "source": [
    "# Overlay points scored histograms\n",
    "t1_df.TEAM_PTS.hist()\n",
    "t2_df.TEAM_PTS.hist()"
   ]
  },
  {
   "cell_type": "code",
   "execution_count": 44,
   "metadata": {},
   "outputs": [
    {
     "data": {
      "text/plain": [
       "<matplotlib.axes._subplots.AxesSubplot at 0x1c895dd0888>"
      ]
     },
     "execution_count": 44,
     "metadata": {},
     "output_type": "execute_result"
    },
    {
     "data": {
      "image/png": "[encoded data removed]",
      "text/plain": [
       "<Figure size 432x288 with 1 Axes>"
      ]
     },
     "metadata": {
      "needs_background": "light"
     },
     "output_type": "display_data"
    }
   ],
   "source": [
    "# Create histogram to look at points allowed by team 1\n",
    "t1_df.OPP_PTS.hist()"
   ]
  },
  {
   "cell_type": "code",
   "execution_count": 45,
   "metadata": {},
   "outputs": [
    {
     "data": {
      "text/plain": [
       "<matplotlib.axes._subplots.AxesSubplot at 0x1c895e599c8>"
      ]
     },
     "execution_count": 45,
     "metadata": {},
     "output_type": "execute_result"
    },
    {
     "data": {
      "image/png": "[encoded data removed]",
      "text/plain": [
       "<Figure size 432x288 with 1 Axes>"
      ]
     },
     "metadata": {
      "needs_background": "light"
     },
     "output_type": "display_data"
    }
   ],
   "source": [
    "# Create histogram to look at points allowed by team 2\n",
    "t2_df.OPP_PTS.hist()"
   ]
  },
  {
   "cell_type": "code",
   "execution_count": 46,
   "metadata": {},
   "outputs": [
    {
     "data": {
      "text/plain": [
       "<matplotlib.axes._subplots.AxesSubplot at 0x1c895e8ec08>"
      ]
     },
     "execution_count": 46,
     "metadata": {},
     "output_type": "execute_result"
    },
    {
     "data": {
      "image/png": "[encoded data removed]",
      "text/plain": [
       "<Figure size 432x288 with 1 Axes>"
      ]
     },
     "metadata": {
      "needs_background": "light"
     },
     "output_type": "display_data"
    }
   ],
   "source": [
    "# Overlay histograms to look at points allowed by each team\n",
    "\n",
    "t1_df.OPP_PTS.hist()\n",
    "t2_df.OPP_PTS.hist()"
   ]
  },
  {
   "cell_type": "code",
   "execution_count": 47,
   "metadata": {},
   "outputs": [
    {
     "name": "stdout",
     "output_type": "stream",
     "text": [
      "Team 1 Points Mean  102.89000000000001\n",
      "Team 1 Points SD  2.376949492288149\n",
      "Team 1 Opponent Points Mean  96.61\n",
      "Team 1 Opponent Points SD  2.115787218875175\n"
     ]
    }
   ],
   "source": [
    "# Calculate mean and standard deviation for team 1\n",
    "\n",
    "t1_mean_pts = t1_df.TEAM_PTS.mean()\n",
    "t1_std_pts = t1_df.TEAM_PTS.std()\n",
    "t1_mean_opp_pts = t1_df.OPP_PTS.mean()\n",
    "t1_std_opp_pts = t1_df.OPP_PTS.std()\n",
    "print(\"Team 1 Points Mean \", t1_mean_pts)\n",
    "print(\"Team 1 Points SD \", t1_std_pts)\n",
    "print(\"Team 1 Opponent Points Mean \", t1_mean_opp_pts)\n",
    "print(\"Team 1 Opponent Points SD \", t1_std_opp_pts)"
   ]
  },
  {
   "cell_type": "code",
   "execution_count": 48,
   "metadata": {},
   "outputs": [
    {
     "name": "stdout",
     "output_type": "stream",
     "text": [
      "Team 2 Points Mean  100.92999999999999\n",
      "Team 2 Points SD  4.45671777582262\n",
      "Team 2 Opponent Points Mean  102.75\n",
      "Team 2 Opponent Points SD  5.0564040801959464\n"
     ]
    }
   ],
   "source": [
    "# Calculate mean and standard deviation for team 2\n",
    "\n",
    "t2_mean_pts = t2_df.TEAM_PTS.mean()\n",
    "t2_std_pts = t2_df.TEAM_PTS.std()\n",
    "t2_mean_opp_pts = t2_df.OPP_PTS.mean()\n",
    "t2_std_opp_pts = t2_df.OPP_PTS.std()\n",
    "print(\"Team 2 Points Mean \", t2_mean_pts)\n",
    "print(\"Team 2 Points SD \", t2_std_pts)\n",
    "print(\"Team 2 Opponent Points Mean \", t2_mean_opp_pts)\n",
    "print(\"Team 2 Opponent Points SD \", t2_std_opp_pts)"
   ]
  },
  {
   "cell_type": "code",
   "execution_count": 49,
   "metadata": {},
   "outputs": [],
   "source": [
    "# Create a mean and standard derivation normal distribuution and randomly sample from it using gaussian function\n",
    "\n",
    "# To create simulated score sum the mean points scored and standard deviation of points scored for team 1 + mean points allowed and standard deviation of points allowed for team 2 and divide sum by 2 \n",
    "def gameSim():\n",
    "    T1_Score = (rnd.gauss(t1_mean_pts, t1_std_pts)+ rnd.gauss(t2_mean_opp_pts,t2_std_opp_pts))/2\n",
    "    T2_Score = (rnd.gauss(t2_mean_pts, t2_std_pts)+ rnd.gauss(t1_mean_opp_pts,t1_std_opp_pts))/2\n",
    "    if int(round(T1_Score)) > int(round(T2_Score)):\n",
    "        return 1\n",
    "    elif int(round(T1_Score)) < int(round(T2_Score)):\n",
    "        return -1\n",
    "    else: return 0"
   ]
  },
  {
   "cell_type": "code",
   "execution_count": 50,
   "metadata": {},
   "outputs": [],
   "source": [
    "# create function to repeat the simulation for number of games selected\n",
    "\n",
    "def gamesSim(ns):\n",
    "    gamesout = []\n",
    "    team1win = 0\n",
    "    team2win = 0\n",
    "    tie = 0\n",
    "    for i in range(ns):\n",
    "        gm = gameSim()\n",
    "        gamesout.append(gm)\n",
    "        if gm == 1:\n",
    "            team1win +=1 \n",
    "        elif gm == -1:\n",
    "            team2win +=1\n",
    "        else: tie +=1 \n",
    "    print('Team 1 Win ', team1win/(team1win+team2win+tie),'%')\n",
    "    print('Team 2 Win ', team2win/(team1win+team2win+tie),'%')\n",
    "    print('Tie Game, Free Basketball! ', tie/(team1win+team2win+tie), '%')\n",
    "    return gamesout"
   ]
  },
  {
   "cell_type": "code",
   "execution_count": 52,
   "metadata": {},
   "outputs": [
    {
     "name": "stdout",
     "output_type": "stream",
     "text": [
      "Team 1 Win  0.84 %\n",
      "Team 2 Win  0.1 %\n",
      "Tie Game, Free Basketball!  0.06 %\n"
     ]
    },
    {
     "data": {
      "text/plain": [
       "[1,\n",
       " 1,\n",
       " 1,\n",
       " 1,\n",
       " 1,\n",
       " 1,\n",
       " 1,\n",
       " 1,\n",
       " 1,\n",
       " 1,\n",
       " 1,\n",
       " 1,\n",
       " 1,\n",
       " 1,\n",
       " 1,\n",
       " 1,\n",
       " 1,\n",
       " 1,\n",
       " 1,\n",
       " 1,\n",
       " -1,\n",
       " 1,\n",
       " -1,\n",
       " 1,\n",
       " 1,\n",
       " 1,\n",
       " 0,\n",
       " 1,\n",
       " 1,\n",
       " 1,\n",
       " 1,\n",
       " 1,\n",
       " 1,\n",
       " 1,\n",
       " 1,\n",
       " 1,\n",
       " 1,\n",
       " 1,\n",
       " 1,\n",
       " 1,\n",
       " 1,\n",
       " 1,\n",
       " 1,\n",
       " 1,\n",
       " 1,\n",
       " 1,\n",
       " -1,\n",
       " 1,\n",
       " 1,\n",
       " 1,\n",
       " 1,\n",
       " 1,\n",
       " 1,\n",
       " 1,\n",
       " 0,\n",
       " 1,\n",
       " -1,\n",
       " -1,\n",
       " 1,\n",
       " 1,\n",
       " 1,\n",
       " -1,\n",
       " 1,\n",
       " 1,\n",
       " 1,\n",
       " 1,\n",
       " 1,\n",
       " -1,\n",
       " 1,\n",
       " -1,\n",
       " 0,\n",
       " 1,\n",
       " 1,\n",
       " 1,\n",
       " 1,\n",
       " 1,\n",
       " 0,\n",
       " 1,\n",
       " 1,\n",
       " 1,\n",
       " 1,\n",
       " -1,\n",
       " 1,\n",
       " 1,\n",
       " 1,\n",
       " 0,\n",
       " 1,\n",
       " 1,\n",
       " 1,\n",
       " 1,\n",
       " 1,\n",
       " 1,\n",
       " 1,\n",
       " -1,\n",
       " 1,\n",
       " 1,\n",
       " 1,\n",
       " 1,\n",
       " 1,\n",
       " 0]"
      ]
     },
     "execution_count": 52,
     "metadata": {},
     "output_type": "execute_result"
    }
   ],
   "source": [
    "gamesSim(100)"
   ]
  },
  {
   "cell_type": "code",
   "execution_count": null,
   "metadata": {},
   "outputs": [],
   "source": []
  }
 ],
 "metadata": {
  "kernelspec": {
   "display_name": "Python [conda env:alpacaenv]",
   "language": "python",
   "name": "conda-env-alpacaenv-py"
  },
  "language_info": {
   "codemirror_mode": {
    "name": "ipython",
    "version": 3
   },
   "file_extension": ".py",
   "mimetype": "text/x-python",
   "name": "python",
   "nbconvert_exporter": "python",
   "pygments_lexer": "ipython3",
   "version": "3.7.7"
  }
 },
 "nbformat": 4,
 "nbformat_minor": 4
}
