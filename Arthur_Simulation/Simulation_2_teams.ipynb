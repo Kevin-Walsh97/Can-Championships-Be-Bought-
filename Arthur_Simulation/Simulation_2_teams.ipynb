{
 "cells": [
  {
   "cell_type": "code",
   "execution_count": 17,
   "metadata": {},
   "outputs": [],
   "source": [
    "# Imports\n",
    "import pandas as pd \n",
    "import random as rnd\n",
    "from pathlib import Path\n",
    "%matplotlib inline"
   ]
  },
  {
   "cell_type": "code",
   "execution_count": 18,
   "metadata": {},
   "outputs": [
    {
     "data": {
      "text/html": [
       "<div>\n",
       "<style scoped>\n",
       "    .dataframe tbody tr th:only-of-type {\n",
       "        vertical-align: middle;\n",
       "    }\n",
       "\n",
       "    .dataframe tbody tr th {\n",
       "        vertical-align: top;\n",
       "    }\n",
       "\n",
       "    .dataframe thead th {\n",
       "        text-align: right;\n",
       "    }\n",
       "</style>\n",
       "<table border=\"1\" class=\"dataframe\">\n",
       "  <thead>\n",
       "    <tr style=\"text-align: right;\">\n",
       "      <th></th>\n",
       "      <th>Unnamed: 0</th>\n",
       "      <th>Team</th>\n",
       "      <th>Game</th>\n",
       "      <th>Date</th>\n",
       "      <th>Home</th>\n",
       "      <th>Opponent</th>\n",
       "      <th>WINorLOSS</th>\n",
       "      <th>TeamPoints</th>\n",
       "      <th>OpponentPoints</th>\n",
       "      <th>FieldGoals</th>\n",
       "      <th>...</th>\n",
       "      <th>Opp.FreeThrows</th>\n",
       "      <th>Opp.FreeThrowsAttempted</th>\n",
       "      <th>Opp.FreeThrows.</th>\n",
       "      <th>Opp.OffRebounds</th>\n",
       "      <th>Opp.TotalRebounds</th>\n",
       "      <th>Opp.Assists</th>\n",
       "      <th>Opp.Steals</th>\n",
       "      <th>Opp.Blocks</th>\n",
       "      <th>Opp.Turnovers</th>\n",
       "      <th>Opp.TotalFouls</th>\n",
       "    </tr>\n",
       "  </thead>\n",
       "  <tbody>\n",
       "    <tr>\n",
       "      <th>9835</th>\n",
       "      <td>78119</td>\n",
       "      <td>WAS</td>\n",
       "      <td>78</td>\n",
       "      <td>4/3/2018</td>\n",
       "      <td>Away</td>\n",
       "      <td>HOU</td>\n",
       "      <td>L</td>\n",
       "      <td>104</td>\n",
       "      <td>120</td>\n",
       "      <td>38</td>\n",
       "      <td>...</td>\n",
       "      <td>18</td>\n",
       "      <td>27</td>\n",
       "      <td>0.667</td>\n",
       "      <td>10</td>\n",
       "      <td>46</td>\n",
       "      <td>26</td>\n",
       "      <td>13</td>\n",
       "      <td>3</td>\n",
       "      <td>9</td>\n",
       "      <td>14</td>\n",
       "    </tr>\n",
       "    <tr>\n",
       "      <th>9836</th>\n",
       "      <td>79119</td>\n",
       "      <td>WAS</td>\n",
       "      <td>79</td>\n",
       "      <td>4/5/2018</td>\n",
       "      <td>Away</td>\n",
       "      <td>CLE</td>\n",
       "      <td>L</td>\n",
       "      <td>115</td>\n",
       "      <td>119</td>\n",
       "      <td>47</td>\n",
       "      <td>...</td>\n",
       "      <td>22</td>\n",
       "      <td>28</td>\n",
       "      <td>0.786</td>\n",
       "      <td>5</td>\n",
       "      <td>35</td>\n",
       "      <td>26</td>\n",
       "      <td>10</td>\n",
       "      <td>3</td>\n",
       "      <td>16</td>\n",
       "      <td>14</td>\n",
       "    </tr>\n",
       "    <tr>\n",
       "      <th>9837</th>\n",
       "      <td>80119</td>\n",
       "      <td>WAS</td>\n",
       "      <td>80</td>\n",
       "      <td>4/6/2018</td>\n",
       "      <td>Home</td>\n",
       "      <td>ATL</td>\n",
       "      <td>L</td>\n",
       "      <td>97</td>\n",
       "      <td>103</td>\n",
       "      <td>35</td>\n",
       "      <td>...</td>\n",
       "      <td>16</td>\n",
       "      <td>23</td>\n",
       "      <td>0.696</td>\n",
       "      <td>7</td>\n",
       "      <td>50</td>\n",
       "      <td>24</td>\n",
       "      <td>5</td>\n",
       "      <td>5</td>\n",
       "      <td>18</td>\n",
       "      <td>22</td>\n",
       "    </tr>\n",
       "    <tr>\n",
       "      <th>9838</th>\n",
       "      <td>81124</td>\n",
       "      <td>WAS</td>\n",
       "      <td>81</td>\n",
       "      <td>4/10/2018</td>\n",
       "      <td>Home</td>\n",
       "      <td>BOS</td>\n",
       "      <td>W</td>\n",
       "      <td>113</td>\n",
       "      <td>101</td>\n",
       "      <td>41</td>\n",
       "      <td>...</td>\n",
       "      <td>22</td>\n",
       "      <td>27</td>\n",
       "      <td>0.815</td>\n",
       "      <td>13</td>\n",
       "      <td>44</td>\n",
       "      <td>22</td>\n",
       "      <td>14</td>\n",
       "      <td>1</td>\n",
       "      <td>16</td>\n",
       "      <td>18</td>\n",
       "    </tr>\n",
       "    <tr>\n",
       "      <th>9839</th>\n",
       "      <td>82119</td>\n",
       "      <td>WAS</td>\n",
       "      <td>82</td>\n",
       "      <td>4/11/2018</td>\n",
       "      <td>Away</td>\n",
       "      <td>ORL</td>\n",
       "      <td>L</td>\n",
       "      <td>92</td>\n",
       "      <td>101</td>\n",
       "      <td>33</td>\n",
       "      <td>...</td>\n",
       "      <td>22</td>\n",
       "      <td>27</td>\n",
       "      <td>0.815</td>\n",
       "      <td>6</td>\n",
       "      <td>42</td>\n",
       "      <td>20</td>\n",
       "      <td>6</td>\n",
       "      <td>7</td>\n",
       "      <td>16</td>\n",
       "      <td>27</td>\n",
       "    </tr>\n",
       "  </tbody>\n",
       "</table>\n",
       "<p>5 rows × 41 columns</p>\n",
       "</div>"
      ],
      "text/plain": [
       "      Unnamed: 0 Team  Game       Date  Home Opponent WINorLOSS  TeamPoints  \\\n",
       "9835       78119  WAS    78   4/3/2018  Away      HOU         L         104   \n",
       "9836       79119  WAS    79   4/5/2018  Away      CLE         L         115   \n",
       "9837       80119  WAS    80   4/6/2018  Home      ATL         L          97   \n",
       "9838       81124  WAS    81  4/10/2018  Home      BOS         W         113   \n",
       "9839       82119  WAS    82  4/11/2018  Away      ORL         L          92   \n",
       "\n",
       "      OpponentPoints  FieldGoals  ...  Opp.FreeThrows  \\\n",
       "9835             120          38  ...              18   \n",
       "9836             119          47  ...              22   \n",
       "9837             103          35  ...              16   \n",
       "9838             101          41  ...              22   \n",
       "9839             101          33  ...              22   \n",
       "\n",
       "      Opp.FreeThrowsAttempted  Opp.FreeThrows.  Opp.OffRebounds  \\\n",
       "9835                       27            0.667               10   \n",
       "9836                       28            0.786                5   \n",
       "9837                       23            0.696                7   \n",
       "9838                       27            0.815               13   \n",
       "9839                       27            0.815                6   \n",
       "\n",
       "      Opp.TotalRebounds  Opp.Assists  Opp.Steals  Opp.Blocks  Opp.Turnovers  \\\n",
       "9835                 46           26          13           3              9   \n",
       "9836                 35           26          10           3             16   \n",
       "9837                 50           24           5           5             18   \n",
       "9838                 44           22          14           1             16   \n",
       "9839                 42           20           6           7             16   \n",
       "\n",
       "      Opp.TotalFouls  \n",
       "9835              14  \n",
       "9836              14  \n",
       "9837              22  \n",
       "9838              18  \n",
       "9839              27  \n",
       "\n",
       "[5 rows x 41 columns]"
      ]
     },
     "execution_count": 18,
     "metadata": {},
     "output_type": "execute_result"
    }
   ],
   "source": [
    "# Bring in NBA game stats csv contains NBA team data from 2014 to 2018\n",
    "nba_stats_csv = Path('../1. Data_Cleaning/nba_team_stats.csv')\n",
    "\n",
    "# Read csv into a pandas Dataframe\n",
    "game_stats = pd.read_csv(nba_stats_csv)\n",
    "game_stats.tail()\n"
   ]
  },
  {
   "cell_type": "code",
   "execution_count": 3,
   "metadata": {},
   "outputs": [
    {
     "name": "stdout",
     "output_type": "stream",
     "text": [
      "0       ATL\n",
      "82      BOS\n",
      "164     BRK\n",
      "246     CHO\n",
      "328     CHI\n",
      "410     CLE\n",
      "492     DAL\n",
      "574     DEN\n",
      "656     DET\n",
      "738     GSW\n",
      "820     HOU\n",
      "902     IND\n",
      "984     LAC\n",
      "1066    LAL\n",
      "1148    MEM\n",
      "1230    MIA\n",
      "1312    MIL\n",
      "1394    MIN\n",
      "1476    NOP\n",
      "1558    NYK\n",
      "1640    OKC\n",
      "1722    ORL\n",
      "1804    PHI\n",
      "1886    PHO\n",
      "1968    POR\n",
      "2050    SAC\n",
      "2132    SAS\n",
      "2214    TOR\n",
      "2296    UTA\n",
      "2378    WAS\n",
      "Name: Team, dtype: object\n"
     ]
    }
   ],
   "source": [
    "# Generate list of teams\n",
    "teams_filtered = game_stats.Team\n",
    "teams_filtered = teams_filtered.drop_duplicates()\n",
    "print(teams_filtered)"
   ]
  },
  {
   "cell_type": "markdown",
   "metadata": {},
   "source": [
    "# User Selected Any Two Teams for S"
   ]
  },
  {
   "cell_type": "code",
   "execution_count": 4,
   "metadata": {},
   "outputs": [],
   "source": [
    "# Set Variables, users select 2 teams from list above\n",
    "\n",
    "team_1 = 'CHO'\n",
    "team_2 = 'CHI'"
   ]
  },
  {
   "cell_type": "code",
   "execution_count": 5,
   "metadata": {},
   "outputs": [],
   "source": [
    "# Create dataframes for two teams selected\n",
    "\n",
    "# Team 1 dataframe\n",
    "t1_df = game_stats[game_stats.Team == team_1]\n",
    "#t1_df.head()\n",
    "\n",
    "# Team 2 dataframe\n",
    "t2_df = game_stats[game_stats.Team == team_2]\n",
    "#t2_df.head()\n"
   ]
  },
  {
   "cell_type": "code",
   "execution_count": 6,
   "metadata": {},
   "outputs": [
    {
     "data": {
      "text/plain": [
       "<matplotlib.axes._subplots.AxesSubplot at 0x25beff83548>"
      ]
     },
     "execution_count": 6,
     "metadata": {},
     "output_type": "execute_result"
    },
    {
     "data": {
      "image/png": "[encoded data removed]",
      "text/plain": [
       "<Figure size 432x288 with 1 Axes>"
      ]
     },
     "metadata": {
      "needs_background": "light"
     },
     "output_type": "display_data"
    }
   ],
   "source": [
    "# Create histogram to look at points scored by Team 1\n",
    "t1_df.TeamPoints.hist()"
   ]
  },
  {
   "cell_type": "code",
   "execution_count": 7,
   "metadata": {},
   "outputs": [
    {
     "data": {
      "text/plain": [
       "<matplotlib.axes._subplots.AxesSubplot at 0x25bf0923848>"
      ]
     },
     "execution_count": 7,
     "metadata": {},
     "output_type": "execute_result"
    },
    {
     "data": {
      "image/png": "[encoded data removed]",
      "text/plain": [
       "<Figure size 432x288 with 1 Axes>"
      ]
     },
     "metadata": {
      "needs_background": "light"
     },
     "output_type": "display_data"
    }
   ],
   "source": [
    "# Create histogram to look at points scored by Team 2\n",
    "t2_df.TeamPoints.hist()"
   ]
  },
  {
   "cell_type": "code",
   "execution_count": 8,
   "metadata": {},
   "outputs": [
    {
     "data": {
      "text/plain": [
       "<matplotlib.axes._subplots.AxesSubplot at 0x25bf0a02ec8>"
      ]
     },
     "execution_count": 8,
     "metadata": {},
     "output_type": "execute_result"
    },
    {
     "data": {
      "image/png": "[encoded data removed]",
      "text/plain": [
       "<Figure size 432x288 with 1 Axes>"
      ]
     },
     "metadata": {
      "needs_background": "light"
     },
     "output_type": "display_data"
    }
   ],
   "source": [
    "# Overlay points scored histograms\n",
    "t1_df.TeamPoints.hist()\n",
    "t2_df.TeamPoints.hist()"
   ]
  },
  {
   "cell_type": "code",
   "execution_count": 9,
   "metadata": {},
   "outputs": [
    {
     "data": {
      "text/plain": [
       "<matplotlib.axes._subplots.AxesSubplot at 0x25bf09f9988>"
      ]
     },
     "execution_count": 9,
     "metadata": {},
     "output_type": "execute_result"
    },
    {
     "data": {
      "image/png": "[encoded data removed]",
      "text/plain": [
       "<Figure size 432x288 with 1 Axes>"
      ]
     },
     "metadata": {
      "needs_background": "light"
     },
     "output_type": "display_data"
    }
   ],
   "source": [
    "# Create histogram to look at points allowed by team 1\n",
    "t1_df.OpponentPoints.hist()"
   ]
  },
  {
   "cell_type": "code",
   "execution_count": 10,
   "metadata": {},
   "outputs": [
    {
     "data": {
      "text/plain": [
       "<matplotlib.axes._subplots.AxesSubplot at 0x25bf0b36308>"
      ]
     },
     "execution_count": 10,
     "metadata": {},
     "output_type": "execute_result"
    },
    {
     "data": {
      "image/png": "[encoded data removed]",
      "text/plain": [
       "<Figure size 432x288 with 1 Axes>"
      ]
     },
     "metadata": {
      "needs_background": "light"
     },
     "output_type": "display_data"
    }
   ],
   "source": [
    "# Create histogram to look at points allowed by team 2\n",
    "t2_df.OpponentPoints.hist()"
   ]
  },
  {
   "cell_type": "code",
   "execution_count": 11,
   "metadata": {},
   "outputs": [
    {
     "data": {
      "text/plain": [
       "<matplotlib.axes._subplots.AxesSubplot at 0x25bf0bb2e48>"
      ]
     },
     "execution_count": 11,
     "metadata": {},
     "output_type": "execute_result"
    },
    {
     "data": {
      "image/png": "[encoded data removed]",
      "text/plain": [
       "<Figure size 432x288 with 1 Axes>"
      ]
     },
     "metadata": {
      "needs_background": "light"
     },
     "output_type": "display_data"
    }
   ],
   "source": [
    "# Overlay histograms to look at points allowed by each team\n",
    "\n",
    "t1_df.OpponentPoints.hist()\n",
    "t2_df.OpponentPoints.hist()"
   ]
  },
  {
   "cell_type": "code",
   "execution_count": 12,
   "metadata": {},
   "outputs": [
    {
     "name": "stdout",
     "output_type": "stream",
     "text": [
      "Team 1 Points Mean  102.66768292682927\n",
      "Team 1 Points SD  12.907667569182555\n",
      "Team 1 Opponent Points Mean  102.66768292682927\n",
      "Team 1 Opponent Points SD  11.828641112911331\n"
     ]
    }
   ],
   "source": [
    "# Calculate mean and standard deviation for team 1\n",
    "\n",
    "t1_mean_pts = t1_df.TeamPoints.mean()\n",
    "t1_std_pts = t1_df.TeamPoints.std()\n",
    "t1_mean_opp_pts = t1_df.OpponentPoints.mean()\n",
    "t1_std_opp_pts = t1_df.OpponentPoints.std()\n",
    "print(\"Team 1 Points Mean \", t1_mean_pts)\n",
    "print(\"Team 1 Points SD \", t1_std_pts)\n",
    "print(\"Team 1 Opponent Points Mean \", t1_mean_opp_pts)\n",
    "print(\"Team 1 Opponent Points SD \", t1_std_opp_pts)"
   ]
  },
  {
   "cell_type": "code",
   "execution_count": 13,
   "metadata": {},
   "outputs": [
    {
     "name": "stdout",
     "output_type": "stream",
     "text": [
      "Team 2 Points Mean  102.0579268292683\n",
      "Team 2 Points SD  11.377038331367542\n",
      "Team 2 Opponent Points Mean  103.32926829268293\n",
      "Team 2 Opponent Points SD  12.490294583803225\n"
     ]
    }
   ],
   "source": [
    "# Calculate mean and standard deviation for team 2\n",
    "\n",
    "t2_mean_pts = t2_df.TeamPoints.mean()\n",
    "t2_std_pts = t2_df.TeamPoints.std()\n",
    "t2_mean_opp_pts = t2_df.OpponentPoints.mean()\n",
    "t2_std_opp_pts = t2_df.OpponentPoints.std()\n",
    "print(\"Team 2 Points Mean \", t2_mean_pts)\n",
    "print(\"Team 2 Points SD \", t2_std_pts)\n",
    "print(\"Team 2 Opponent Points Mean \", t2_mean_opp_pts)\n",
    "print(\"Team 2 Opponent Points SD \", t2_std_opp_pts)"
   ]
  },
  {
   "cell_type": "code",
   "execution_count": 14,
   "metadata": {},
   "outputs": [],
   "source": [
    "# Create a mean and standard derivation normal distribuution and randomly sample from it using gaussian function\n",
    "\n",
    "# To create simulated score sum the mean points scored and standard deviation of points scored for team 1 + mean points allowed and standard deviation of points allowed for team 2 and divide sum by 2 \n",
    "def gameSim():\n",
    "    T1_Score = (rnd.gauss(t1_mean_pts, t1_std_pts)+ rnd.gauss(t2_mean_opp_pts,t2_std_opp_pts))/2\n",
    "    T2_Score = (rnd.gauss(t2_mean_pts, t2_std_pts)+ rnd.gauss(t1_mean_opp_pts,t1_std_opp_pts))/2\n",
    "    if int(round(T1_Score)) > int(round(T2_Score)):\n",
    "        return 1\n",
    "    elif int(round(T1_Score)) < int(round(T2_Score)):\n",
    "        return -1\n",
    "    else: return 0"
   ]
  },
  {
   "cell_type": "code",
   "execution_count": 15,
   "metadata": {},
   "outputs": [],
   "source": [
    "# create function to repeat the simulation for number of games selected\n",
    "\n",
    "def gamesSim(ns):\n",
    "    gamesout = []\n",
    "    team1win = 0\n",
    "    team2win = 0\n",
    "    tie = 0\n",
    "    for i in range(ns):\n",
    "        gm = gameSim()\n",
    "        gamesout.append(gm)\n",
    "        if gm == 1:\n",
    "            team1win +=1 \n",
    "        elif gm == -1:\n",
    "            team2win +=1\n",
    "        else: tie +=1 \n",
    "    print('Team 1 Win ', team1win/(team1win+team2win+tie),'%')\n",
    "    print('Team 2 Win ', team2win/(team1win+team2win+tie),'%')\n",
    "    print('Tie Game, Free Basketball! ', tie/(team1win+team2win+tie), '%')\n",
    "    return gamesout"
   ]
  },
  {
   "cell_type": "code",
   "execution_count": 16,
   "metadata": {},
   "outputs": [
    {
     "name": "stdout",
     "output_type": "stream",
     "text": [
      "Team 1 Win  0.5 %\n",
      "Team 2 Win  0.46 %\n",
      "Tie Game, Free Basketball!  0.04 %\n"
     ]
    },
    {
     "data": {
      "text/plain": [
       "[-1,\n",
       " -1,\n",
       " 1,\n",
       " -1,\n",
       " -1,\n",
       " 1,\n",
       " 1,\n",
       " 0,\n",
       " 1,\n",
       " 1,\n",
       " 1,\n",
       " -1,\n",
       " -1,\n",
       " 1,\n",
       " -1,\n",
       " -1,\n",
       " -1,\n",
       " 1,\n",
       " 1,\n",
       " -1,\n",
       " -1,\n",
       " -1,\n",
       " 0,\n",
       " -1,\n",
       " -1,\n",
       " -1,\n",
       " 1,\n",
       " -1,\n",
       " 1,\n",
       " 1,\n",
       " 1,\n",
       " -1,\n",
       " -1,\n",
       " 1,\n",
       " 1,\n",
       " 1,\n",
       " -1,\n",
       " 1,\n",
       " 1,\n",
       " 1,\n",
       " 1,\n",
       " 1,\n",
       " 1,\n",
       " -1,\n",
       " 1,\n",
       " -1,\n",
       " 1,\n",
       " -1,\n",
       " -1,\n",
       " 1,\n",
       " 1,\n",
       " 1,\n",
       " 1,\n",
       " 1,\n",
       " -1,\n",
       " 1,\n",
       " 1,\n",
       " 1,\n",
       " -1,\n",
       " -1,\n",
       " 1,\n",
       " 0,\n",
       " 1,\n",
       " -1,\n",
       " 1,\n",
       " 1,\n",
       " -1,\n",
       " -1,\n",
       " -1,\n",
       " 1,\n",
       " 1,\n",
       " 1,\n",
       " -1,\n",
       " 1,\n",
       " 1,\n",
       " -1,\n",
       " 1,\n",
       " 1,\n",
       " 1,\n",
       " -1,\n",
       " -1,\n",
       " 1,\n",
       " -1,\n",
       " 1,\n",
       " -1,\n",
       " 1,\n",
       " 1,\n",
       " -1,\n",
       " 0,\n",
       " -1,\n",
       " -1,\n",
       " -1,\n",
       " 1,\n",
       " -1,\n",
       " -1,\n",
       " -1,\n",
       " -1,\n",
       " 1,\n",
       " -1,\n",
       " -1]"
      ]
     },
     "execution_count": 16,
     "metadata": {},
     "output_type": "execute_result"
    }
   ],
   "source": [
    "gamesSim(100)"
   ]
  },
  {
   "cell_type": "code",
   "execution_count": null,
   "metadata": {},
   "outputs": [],
   "source": []
  }
 ],
 "metadata": {
  "kernelspec": {
   "display_name": "Python [conda env:pyvizenv] *",
   "language": "python",
   "name": "conda-env-pyvizenv-py"
  },
  "language_info": {
   "codemirror_mode": {
    "name": "ipython",
    "version": 3
   },
   "file_extension": ".py",
   "mimetype": "text/x-python",
   "name": "python",
   "nbconvert_exporter": "python",
   "pygments_lexer": "ipython3",
   "version": "3.7.7"
  }
 },
 "nbformat": 4,
 "nbformat_minor": 4
}
