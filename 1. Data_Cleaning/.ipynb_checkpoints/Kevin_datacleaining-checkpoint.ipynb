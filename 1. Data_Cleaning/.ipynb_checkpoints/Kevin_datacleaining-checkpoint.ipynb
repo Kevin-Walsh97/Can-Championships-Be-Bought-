{
 "cells": [
  {
   "cell_type": "code",
   "execution_count": 71,
   "metadata": {},
   "outputs": [],
   "source": [
    "# Imports\n",
    "import pandas as pd\n",
    "import numpy as np\n",
    "import datetime as dt\n",
    "from pathlib import Path\n",
    "%matplotlib inline"
   ]
  },
  {
   "cell_type": "markdown",
   "metadata": {},
   "source": [
    "# Win Loss Record\n",
    "\n",
    "This data set contains the historical win loss records for each NBA team beginning with the 1999-2000 season."
   ]
  },
  {
   "cell_type": "code",
   "execution_count": 90,
   "metadata": {},
   "outputs": [
    {
     "data": {
      "text/html": [
       "<div>\n",
       "<style scoped>\n",
       "    .dataframe tbody tr th:only-of-type {\n",
       "        vertical-align: middle;\n",
       "    }\n",
       "\n",
       "    .dataframe tbody tr th {\n",
       "        vertical-align: top;\n",
       "    }\n",
       "\n",
       "    .dataframe thead th {\n",
       "        text-align: right;\n",
       "    }\n",
       "</style>\n",
       "<table border=\"1\" class=\"dataframe\">\n",
       "  <thead>\n",
       "    <tr style=\"text-align: right;\">\n",
       "      <th></th>\n",
       "      <th>Team</th>\n",
       "      <th>GP</th>\n",
       "      <th>W</th>\n",
       "      <th>L</th>\n",
       "      <th>WIN%</th>\n",
       "    </tr>\n",
       "    <tr>\n",
       "      <th>Season</th>\n",
       "      <th></th>\n",
       "      <th></th>\n",
       "      <th></th>\n",
       "      <th></th>\n",
       "      <th></th>\n",
       "    </tr>\n",
       "  </thead>\n",
       "  <tbody>\n",
       "    <tr>\n",
       "      <th>2019-20</th>\n",
       "      <td>Atlanta Hawks</td>\n",
       "      <td>67</td>\n",
       "      <td>20</td>\n",
       "      <td>47</td>\n",
       "      <td>0.299</td>\n",
       "    </tr>\n",
       "    <tr>\n",
       "      <th>2019-20</th>\n",
       "      <td>Boston Celtics</td>\n",
       "      <td>72</td>\n",
       "      <td>48</td>\n",
       "      <td>24</td>\n",
       "      <td>0.667</td>\n",
       "    </tr>\n",
       "    <tr>\n",
       "      <th>2019-20</th>\n",
       "      <td>Brooklyn Nets</td>\n",
       "      <td>72</td>\n",
       "      <td>35</td>\n",
       "      <td>37</td>\n",
       "      <td>0.486</td>\n",
       "    </tr>\n",
       "    <tr>\n",
       "      <th>2019-20</th>\n",
       "      <td>Charlotte Hornets</td>\n",
       "      <td>65</td>\n",
       "      <td>23</td>\n",
       "      <td>42</td>\n",
       "      <td>0.354</td>\n",
       "    </tr>\n",
       "    <tr>\n",
       "      <th>2019-20</th>\n",
       "      <td>Chicago Bulls</td>\n",
       "      <td>65</td>\n",
       "      <td>22</td>\n",
       "      <td>43</td>\n",
       "      <td>0.338</td>\n",
       "    </tr>\n",
       "  </tbody>\n",
       "</table>\n",
       "</div>"
      ],
      "text/plain": [
       "                      Team  GP   W   L   WIN%\n",
       "Season                                       \n",
       "2019-20      Atlanta Hawks  67  20  47  0.299\n",
       "2019-20     Boston Celtics  72  48  24  0.667\n",
       "2019-20      Brooklyn Nets  72  35  37  0.486\n",
       "2019-20  Charlotte Hornets  65  23  42  0.354\n",
       "2019-20      Chicago Bulls  65  22  43  0.338"
      ]
     },
     "execution_count": 90,
     "metadata": {},
     "output_type": "execute_result"
    }
   ],
   "source": [
    "# Bring in NBA Records CSV\n",
    "nba_records_csv = Path('../Kevin_Files/Win_Loss.csv')\n",
    "# Read csv into a pandas Dataframe\n",
    "nba_records = pd.read_csv(nba_records_csv)\n",
    "nba_records = nba_records.set_index('Season')\n",
    "nba_records.head()"
   ]
  },
  {
   "cell_type": "code",
   "execution_count": 91,
   "metadata": {},
   "outputs": [
    {
     "data": {
      "text/plain": [
       "Team    0\n",
       "GP      0\n",
       "W       0\n",
       "L       0\n",
       "WIN%    0\n",
       "dtype: int64"
      ]
     },
     "execution_count": 91,
     "metadata": {},
     "output_type": "execute_result"
    }
   ],
   "source": [
    "# Count the nulls in the data\n",
    "nba_records.isnull().sum()"
   ]
  },
  {
   "cell_type": "code",
   "execution_count": 92,
   "metadata": {},
   "outputs": [],
   "source": [
    "# Filter dataframe to be inclusive of only the 2008-09 season through the 2017-18 season\n",
    "#df = nba_records[(nba_records['Season']== '2019-20')] #& (nba_records['Season']=='2018-19')]\n"
   ]
  },
  {
   "cell_type": "markdown",
   "metadata": {},
   "source": [
    "# NBA Salaries\n",
    "This csv file contains the historical salary spend for each NBA team beginning in the 2008 - 2009 season. This information is both inclusive and exclusive of inflation."
   ]
  },
  {
   "cell_type": "code",
   "execution_count": 93,
   "metadata": {},
   "outputs": [
    {
     "data": {
      "text/html": [
       "<div>\n",
       "<style scoped>\n",
       "    .dataframe tbody tr th:only-of-type {\n",
       "        vertical-align: middle;\n",
       "    }\n",
       "\n",
       "    .dataframe tbody tr th {\n",
       "        vertical-align: top;\n",
       "    }\n",
       "\n",
       "    .dataframe thead th {\n",
       "        text-align: right;\n",
       "    }\n",
       "</style>\n",
       "<table border=\"1\" class=\"dataframe\">\n",
       "  <thead>\n",
       "    <tr style=\"text-align: right;\">\n",
       "      <th></th>\n",
       "      <th>Season</th>\n",
       "      <th>Team</th>\n",
       "      <th>Salary</th>\n",
       "      <th>Salary w/ Inflation</th>\n",
       "    </tr>\n",
       "  </thead>\n",
       "  <tbody>\n",
       "    <tr>\n",
       "      <th>0</th>\n",
       "      <td>2008/2009</td>\n",
       "      <td>New York</td>\n",
       "      <td>$96,643,646</td>\n",
       "      <td>$113,130,233</td>\n",
       "    </tr>\n",
       "    <tr>\n",
       "      <th>1</th>\n",
       "      <td>2008/2009</td>\n",
       "      <td>Dallas</td>\n",
       "      <td>$95,045,559</td>\n",
       "      <td>$111,259,524</td>\n",
       "    </tr>\n",
       "    <tr>\n",
       "      <th>2</th>\n",
       "      <td>2008/2009</td>\n",
       "      <td>Cleveland</td>\n",
       "      <td>$91,298,233</td>\n",
       "      <td>$106,872,938</td>\n",
       "    </tr>\n",
       "    <tr>\n",
       "      <th>3</th>\n",
       "      <td>2008/2009</td>\n",
       "      <td>Portland</td>\n",
       "      <td>$80,260,059</td>\n",
       "      <td>$93,951,741</td>\n",
       "    </tr>\n",
       "    <tr>\n",
       "      <th>4</th>\n",
       "      <td>2008/2009</td>\n",
       "      <td>Boston</td>\n",
       "      <td>$79,188,973</td>\n",
       "      <td>$92,697,938</td>\n",
       "    </tr>\n",
       "  </tbody>\n",
       "</table>\n",
       "</div>"
      ],
      "text/plain": [
       "      Season       Team        Salary Salary w/ Inflation\n",
       "0  2008/2009   New York  $96,643,646        $113,130,233 \n",
       "1  2008/2009     Dallas  $95,045,559        $111,259,524 \n",
       "2  2008/2009  Cleveland  $91,298,233        $106,872,938 \n",
       "3  2008/2009   Portland  $80,260,059         $93,951,741 \n",
       "4  2008/2009     Boston  $79,188,973         $92,697,938 "
      ]
     },
     "execution_count": 93,
     "metadata": {},
     "output_type": "execute_result"
    }
   ],
   "source": [
    "# Bring in NBA Salary Information\n",
    "nba_salary_csv = Path('../nba_salaries.csv')\n",
    "# Read CSV into a Pandas Dataframe\n",
    "nba_salaries = pd.read_csv(nba_salary_csv)\n",
    "nba_salaries = nba_salaries.rename(columns={'Year':'Season'})\n",
    "nba_salaries.sort_values('Team',ascending=False)\n",
    "nba_salaries.head()"
   ]
  },
  {
   "cell_type": "code",
   "execution_count": 94,
   "metadata": {},
   "outputs": [
    {
     "data": {
      "text/plain": [
       "Season                 0\n",
       "Team                   0\n",
       "Salary                 0\n",
       "Salary w/ Inflation    0\n",
       "dtype: int64"
      ]
     },
     "execution_count": 94,
     "metadata": {},
     "output_type": "execute_result"
    }
   ],
   "source": [
    "# Count the nulls in the data\n",
    "nba_salaries.isnull().sum()"
   ]
  },
  {
   "cell_type": "code",
   "execution_count": 95,
   "metadata": {},
   "outputs": [
    {
     "data": {
      "text/html": [
       "<div>\n",
       "<style scoped>\n",
       "    .dataframe tbody tr th:only-of-type {\n",
       "        vertical-align: middle;\n",
       "    }\n",
       "\n",
       "    .dataframe tbody tr th {\n",
       "        vertical-align: top;\n",
       "    }\n",
       "\n",
       "    .dataframe thead th {\n",
       "        text-align: right;\n",
       "    }\n",
       "</style>\n",
       "<table border=\"1\" class=\"dataframe\">\n",
       "  <thead>\n",
       "    <tr style=\"text-align: right;\">\n",
       "      <th></th>\n",
       "      <th>Season</th>\n",
       "      <th>Team</th>\n",
       "      <th>Salary</th>\n",
       "      <th>Salary w/ Inflation</th>\n",
       "    </tr>\n",
       "  </thead>\n",
       "  <tbody>\n",
       "    <tr>\n",
       "      <th>0</th>\n",
       "      <td>2008-09</td>\n",
       "      <td>New York</td>\n",
       "      <td>$96,643,646</td>\n",
       "      <td>$113,130,233</td>\n",
       "    </tr>\n",
       "    <tr>\n",
       "      <th>1</th>\n",
       "      <td>2008-09</td>\n",
       "      <td>Dallas</td>\n",
       "      <td>$95,045,559</td>\n",
       "      <td>$111,259,524</td>\n",
       "    </tr>\n",
       "    <tr>\n",
       "      <th>2</th>\n",
       "      <td>2008-09</td>\n",
       "      <td>Cleveland</td>\n",
       "      <td>$91,298,233</td>\n",
       "      <td>$106,872,938</td>\n",
       "    </tr>\n",
       "    <tr>\n",
       "      <th>3</th>\n",
       "      <td>2008-09</td>\n",
       "      <td>Portland</td>\n",
       "      <td>$80,260,059</td>\n",
       "      <td>$93,951,741</td>\n",
       "    </tr>\n",
       "    <tr>\n",
       "      <th>4</th>\n",
       "      <td>2008-09</td>\n",
       "      <td>Boston</td>\n",
       "      <td>$79,188,973</td>\n",
       "      <td>$92,697,938</td>\n",
       "    </tr>\n",
       "  </tbody>\n",
       "</table>\n",
       "</div>"
      ],
      "text/plain": [
       "    Season       Team        Salary Salary w/ Inflation\n",
       "0  2008-09   New York  $96,643,646        $113,130,233 \n",
       "1  2008-09     Dallas  $95,045,559        $111,259,524 \n",
       "2  2008-09  Cleveland  $91,298,233        $106,872,938 \n",
       "3  2008-09   Portland  $80,260,059         $93,951,741 \n",
       "4  2008-09     Boston  $79,188,973         $92,697,938 "
      ]
     },
     "execution_count": 95,
     "metadata": {},
     "output_type": "execute_result"
    }
   ],
   "source": [
    "# Formatting the Seasons column to match the syntax in the nba_record dataframe\n",
    "old_seasons = ['2008/2009','2009/2010','2010/2011','2011/2012','2012/2013','2013/2014','2014/2015','2015/2016','2016/2017','2017/2018']\n",
    "new_seasons = ['2008-09','2009-10','2010-11','2011-12','2012-13','2013-14','2014-15','2015-16','2016-17','2017-18']\n",
    "nba_salaries['Season'] = nba_salaries['Season'].replace(old_seasons,new_seasons)\n",
    "nba_salaries.head()"
   ]
  },
  {
   "cell_type": "code",
   "execution_count": 96,
   "metadata": {},
   "outputs": [],
   "source": [
    "# Setting the Season columns as the Index\n",
    "nba_salaries = nba_salaries.set_index('Season')"
   ]
  },
  {
   "cell_type": "code",
   "execution_count": 97,
   "metadata": {},
   "outputs": [],
   "source": [
    "# Formatting the Team column to match the syntach in the nba_record dataframe\n",
    "# Extracting the 'Team' format from nba_salaries dataframe\n",
    "salary_team = nba_salaries.groupby(nba_salaries.index)['Team'].unique()\n",
    "# Extracting the 'Team' format from nba_records dataframe\n",
    "record_team = nba_records.groupby(nba_records.index)['Team'].unique()"
   ]
  },
  {
   "cell_type": "code",
   "execution_count": 99,
   "metadata": {},
   "outputs": [
    {
     "data": {
      "text/html": [
       "<div>\n",
       "<style scoped>\n",
       "    .dataframe tbody tr th:only-of-type {\n",
       "        vertical-align: middle;\n",
       "    }\n",
       "\n",
       "    .dataframe tbody tr th {\n",
       "        vertical-align: top;\n",
       "    }\n",
       "\n",
       "    .dataframe thead th {\n",
       "        text-align: right;\n",
       "    }\n",
       "</style>\n",
       "<table border=\"1\" class=\"dataframe\">\n",
       "  <thead>\n",
       "    <tr style=\"text-align: right;\">\n",
       "      <th></th>\n",
       "      <th>Team</th>\n",
       "      <th>Salary</th>\n",
       "      <th>Salary w/ Inflation</th>\n",
       "    </tr>\n",
       "    <tr>\n",
       "      <th>Season</th>\n",
       "      <th></th>\n",
       "      <th></th>\n",
       "      <th></th>\n",
       "    </tr>\n",
       "  </thead>\n",
       "  <tbody>\n",
       "    <tr>\n",
       "      <th>2008-09</th>\n",
       "      <td>Washington Wizards</td>\n",
       "      <td>$96,643,646</td>\n",
       "      <td>$113,130,233</td>\n",
       "    </tr>\n",
       "    <tr>\n",
       "      <th>2008-09</th>\n",
       "      <td>Utah Jazz</td>\n",
       "      <td>$95,045,559</td>\n",
       "      <td>$111,259,524</td>\n",
       "    </tr>\n",
       "    <tr>\n",
       "      <th>2008-09</th>\n",
       "      <td>Toronto Raptors</td>\n",
       "      <td>$91,298,233</td>\n",
       "      <td>$106,872,938</td>\n",
       "    </tr>\n",
       "    <tr>\n",
       "      <th>2008-09</th>\n",
       "      <td>San Antonio Spurs</td>\n",
       "      <td>$80,260,059</td>\n",
       "      <td>$93,951,741</td>\n",
       "    </tr>\n",
       "    <tr>\n",
       "      <th>2008-09</th>\n",
       "      <td>Sacramento Kings</td>\n",
       "      <td>$79,188,973</td>\n",
       "      <td>$92,697,938</td>\n",
       "    </tr>\n",
       "  </tbody>\n",
       "</table>\n",
       "</div>"
      ],
      "text/plain": [
       "                       Team        Salary Salary w/ Inflation\n",
       "Season                                                       \n",
       "2008-09  Washington Wizards  $96,643,646        $113,130,233 \n",
       "2008-09           Utah Jazz  $95,045,559        $111,259,524 \n",
       "2008-09     Toronto Raptors  $91,298,233        $106,872,938 \n",
       "2008-09   San Antonio Spurs  $80,260,059         $93,951,741 \n",
       "2008-09    Sacramento Kings  $79,188,973         $92,697,938 "
      ]
     },
     "execution_count": 99,
     "metadata": {},
     "output_type": "execute_result"
    }
   ],
   "source": [
    "# Replace the Team names in nba_salaries with the team attributes from nba_records\n",
    "nba_salaries['Team'] = nba_salaries['Team'].replace(salary_team['2008-09'],record_team['2008-09'])\n",
    "nba_salaries.head()"
   ]
  },
  {
   "cell_type": "code",
   "execution_count": 112,
   "metadata": {},
   "outputs": [
    {
     "data": {
      "text/html": [
       "<div>\n",
       "<style scoped>\n",
       "    .dataframe tbody tr th:only-of-type {\n",
       "        vertical-align: middle;\n",
       "    }\n",
       "\n",
       "    .dataframe tbody tr th {\n",
       "        vertical-align: top;\n",
       "    }\n",
       "\n",
       "    .dataframe thead th {\n",
       "        text-align: right;\n",
       "    }\n",
       "</style>\n",
       "<table border=\"1\" class=\"dataframe\">\n",
       "  <thead>\n",
       "    <tr style=\"text-align: right;\">\n",
       "      <th></th>\n",
       "      <th>Team</th>\n",
       "      <th>GP</th>\n",
       "      <th>W</th>\n",
       "      <th>L</th>\n",
       "      <th>WIN%</th>\n",
       "      <th>Salary</th>\n",
       "      <th>Salary w/ Inflation</th>\n",
       "    </tr>\n",
       "    <tr>\n",
       "      <th>Season</th>\n",
       "      <th></th>\n",
       "      <th></th>\n",
       "      <th></th>\n",
       "      <th></th>\n",
       "      <th></th>\n",
       "      <th></th>\n",
       "      <th></th>\n",
       "    </tr>\n",
       "  </thead>\n",
       "  <tbody>\n",
       "  </tbody>\n",
       "</table>\n",
       "</div>"
      ],
      "text/plain": [
       "Empty DataFrame\n",
       "Columns: [Team, GP, W, L, WIN%, Salary, Salary w/ Inflation]\n",
       "Index: []"
      ]
     },
     "execution_count": 112,
     "metadata": {},
     "output_type": "execute_result"
    }
   ],
   "source": [
    "# Concat\n"
   ]
  },
  {
   "cell_type": "code",
   "execution_count": null,
   "metadata": {},
   "outputs": [],
   "source": []
  }
 ],
 "metadata": {
  "kernelspec": {
   "display_name": "Python 3",
   "language": "python",
   "name": "python3"
  },
  "language_info": {
   "codemirror_mode": {
    "name": "ipython",
    "version": 3
   },
   "file_extension": ".py",
   "mimetype": "text/x-python",
   "name": "python",
   "nbconvert_exporter": "python",
   "pygments_lexer": "ipython3",
   "version": "3.8.3"
  }
 },
 "nbformat": 4,
 "nbformat_minor": 4
}
